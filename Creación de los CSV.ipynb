{
 "cells": [
  {
   "cell_type": "code",
   "execution_count": 1,
   "id": "c5532189",
   "metadata": {},
   "outputs": [],
   "source": [
    "from sqlalchemy import create_engine, Column, Integer, String, Numeric, Date, ForeignKey\n",
    "from sqlalchemy.ext.declarative import declarative_base\n",
    "from sqlalchemy.orm import relationship, sessionmaker\n",
    "from faker import Faker\n",
    "from datetime import datetime, timedelta\n",
    "import random\n",
    "import pandas as pd"
   ]
  },
  {
   "cell_type": "code",
   "execution_count": 2,
   "id": "a61c3c9a",
   "metadata": {},
   "outputs": [],
   "source": [
    "# Crear la conexión a la base de datos en memoria\n",
    "engine = create_engine('sqlite:///:memory:')"
   ]
  },
  {
   "cell_type": "code",
   "execution_count": 3,
   "id": "86270bd6",
   "metadata": {},
   "outputs": [],
   "source": [
    "# Crea una clase base para la definición de tablas\n",
    "Base = declarative_base()"
   ]
  },
  {
   "cell_type": "code",
   "execution_count": 4,
   "id": "d674ed9a",
   "metadata": {},
   "outputs": [],
   "source": [
    "# Definir la tabla tb_users\n",
    "class User(Base):\n",
    "    __tablename__ = 'tb_users'\n",
    "    \n",
    "    user_id = Column(Integer, primary_key=True)\n",
    "    created_dt = Column(Date)\n",
    "    name = Column(String(60))\n",
    "    email = Column(String(100))\n",
    "    phone = Column(Integer)\n",
    "    birthdate = Column(Date)\n",
    "    gender = Column(String(6))\n",
    "    street_address = Column(String(100))\n",
    "    cp = Column(Integer)\n",
    "    country = Column(String(56))\n"
   ]
  },
  {
   "cell_type": "code",
   "execution_count": 5,
   "id": "1fd6c23c",
   "metadata": {},
   "outputs": [],
   "source": [
    "# Definir la tabla tb_loan\n",
    "class Loan(Base):\n",
    "    __tablename__ = 'tb_loan'\n",
    "    \n",
    "    loan_id = Column(Integer, primary_key=True)\n",
    "    user_id = Column(Integer, ForeignKey('tb_users.user_id'))\n",
    "    contract_start_date = Column(Date)\n",
    "    contract_end_date = Column(Date)\n",
    "    loan_amount = Column(Numeric(6, 2))\n",
    "    interest_rate = Column(Numeric(2, 2))\n",
    "    payment_frequency = Column(String(5))\n",
    "    loan_term = Column(Integer)"
   ]
  },
  {
   "cell_type": "code",
   "execution_count": 6,
   "id": "0a396e83",
   "metadata": {},
   "outputs": [],
   "source": [
    "# Definir la tabla tb_payment\n",
    "class Payment(Base):\n",
    "    __tablename__ = 'tb_payment'\n",
    "    \n",
    "    payment_id = Column(Integer, primary_key=True)\n",
    "    user_id = Column(Integer, ForeignKey('tb_users.user_id'))\n",
    "    loan_id = Column(Integer, ForeignKey('tb_loan.loan_id'))\n",
    "    limit_payment_dt = Column(Date)\n",
    "    payment_date = Column(Date)\n",
    "    payment_method = Column(String(10))\n",
    "    hash_card = Column(String(10))\n",
    "    issue_bank = Column(String(20))\n",
    "    payment_amount = Column(Numeric(9, 2))"
   ]
  },
  {
   "cell_type": "code",
   "execution_count": 7,
   "id": "9a4db38f",
   "metadata": {},
   "outputs": [],
   "source": [
    "# Crear las tablas en la base de datos\n",
    "Base.metadata.create_all(engine)"
   ]
  },
  {
   "cell_type": "code",
   "execution_count": 8,
   "id": "8f1630b3",
   "metadata": {},
   "outputs": [],
   "source": [
    "# Crear una sesión para interactuar con la base de datos\n",
    "Session = sessionmaker(bind=engine)\n",
    "session = Session()"
   ]
  },
  {
   "cell_type": "code",
   "execution_count": 9,
   "id": "6f8d363d",
   "metadata": {},
   "outputs": [],
   "source": [
    "# Crear una instancia de Faker\n",
    "fake = Faker()"
   ]
  },
  {
   "cell_type": "code",
   "execution_count": 12,
   "id": "1b9043fd",
   "metadata": {},
   "outputs": [],
   "source": [
    "# Generar datos aleatorios para las tablas\n",
    "for i in range(1000):  # El número en rango será el número de rows que tengas\n",
    "# Generar datos para la tabla tb_users\n",
    "    user = User(\n",
    "        created_dt=fake.date_this_decade(),\n",
    "        name=fake.name(),\n",
    "        email=fake.email(),\n",
    "        phone=fake.random_int(1000000000, 9999999999),\n",
    "        birthdate=fake.date_of_birth(),\n",
    "        gender=random.choice(['Male', 'Female']),\n",
    "        street_address=fake.street_address(),\n",
    "        cp=random.choice([44150,44214,44219,44248,44266]),\n",
    "        country=fake.country()\n",
    "    )\n",
    "    session.add(user)"
   ]
  },
  {
   "cell_type": "code",
   "execution_count": 13,
   "id": "c4c55aa2",
   "metadata": {},
   "outputs": [],
   "source": [
    "# Generar datos aleatorios para las tablas\n",
    "for i in range(1000):  # El número en rango será el número de rows que tengas \n",
    "# Generar datos para la tabla tb_loan\n",
    "    loan = Loan(\n",
    "        user_id=random.randint(1, 10),  # Ajusta esto según la cantidad de registros generados\n",
    "        contract_start_date=fake.date_this_year(),\n",
    "        contract_end_date=fake.date_this_year() + timedelta(days=random.randint(30, 365)),\n",
    "        loan_amount=round(random.uniform(1000, 50000)),\n",
    "        interest_rate=random.uniform(0.01, 0.2),\n",
    "        payment_frequency=random.choice(['monthly']),\n",
    "        loan_term=random.randint(12, 72)\n",
    "    )\n",
    "    session.add(loan)"
   ]
  },
  {
   "cell_type": "code",
   "execution_count": 14,
   "id": "5098cb07",
   "metadata": {},
   "outputs": [],
   "source": [
    "# Generar datos aleatorios para las tablas\n",
    "for i in range(1000):  # El número en rango será el número de rows que tengas\n",
    "    \n",
    "# Generar datos para la tabla tb_payment\n",
    "    payment = Payment(\n",
    "        user_id=random.randint(1, 10),  # Ajusta esto según la cantidad de registros generados\n",
    "        loan_id=random.randint(1, 10),  # Ajusta esto según la cantidad de registros generados\n",
    "        limit_payment_dt=fake.date_this_year(),\n",
    "        payment_date=fake.date_this_year(),\n",
    "        payment_method=random.choice(['Debit Card', 'Cash']),\n",
    "        hash_card=fake.credit_card_number(),\n",
    "        issue_bank=fake.random_element(['Santander', 'BBVA', 'Azteka', 'Banamex']),\n",
    "        payment_amount=round(random.uniform(50, 5000)),\n",
    "    )\n",
    "    session.add(payment)"
   ]
  },
  {
   "cell_type": "code",
   "execution_count": 15,
   "id": "0be0df40",
   "metadata": {},
   "outputs": [],
   "source": [
    "# Se hace commit para guardar los datos en la base de datos\n",
    "session.commit()"
   ]
  },
  {
   "cell_type": "code",
   "execution_count": 16,
   "id": "c6797fc3",
   "metadata": {},
   "outputs": [
    {
     "name": "stderr",
     "output_type": "stream",
     "text": [
      "C:\\ProgramData\\anaconda3\\lib\\site-packages\\pandas\\io\\sql.py:1405: SAWarning: Dialect sqlite+pysqlite does *not* support Decimal objects natively, and SQLAlchemy must convert from floating point - rounding errors and other issues may occur. Please consider storing Decimal numbers as strings or integers on this platform for lossless storage.\n",
      "  return self.connectable.execution_options().execute(*args, **kwargs)\n",
      "C:\\ProgramData\\anaconda3\\lib\\site-packages\\pandas\\io\\sql.py:1405: SAWarning: Dialect sqlite+pysqlite does *not* support Decimal objects natively, and SQLAlchemy must convert from floating point - rounding errors and other issues may occur. Please consider storing Decimal numbers as strings or integers on this platform for lossless storage.\n",
      "  return self.connectable.execution_options().execute(*args, **kwargs)\n"
     ]
    }
   ],
   "source": [
    "users_df = pd.read_sql(session.query(User).statement, session.bind)\n",
    "loans_df = pd.read_sql(session.query(Loan).statement, session.bind)\n",
    "payments_df = pd.read_sql(session.query(Payment).statement, session.bind)"
   ]
  },
  {
   "cell_type": "code",
   "execution_count": 17,
   "id": "bf7a65a9",
   "metadata": {},
   "outputs": [],
   "source": [
    "# Convertir columnas Numeric a strings para evitar problemas de precisión al exportar a CSV\n",
    "loans_df['loan_amount'] = loans_df['loan_amount'].astype(str)\n",
    "loans_df['interest_rate'] = loans_df['interest_rate'].astype(str)\n",
    "loans_df['loan_term'] = loans_df['loan_term'].astype(str)"
   ]
  },
  {
   "cell_type": "code",
   "execution_count": 18,
   "id": "9886783e",
   "metadata": {},
   "outputs": [],
   "source": [
    "users_df.to_csv('users.csv', index=False)\n",
    "loans_df.to_csv('loans.csv', index=False)\n",
    "payments_df.to_csv('payments.csv', index=False)"
   ]
  }
 ],
 "metadata": {
  "kernelspec": {
   "display_name": "Python 3 (ipykernel)",
   "language": "python",
   "name": "python3"
  },
  "language_info": {
   "codemirror_mode": {
    "name": "ipython",
    "version": 3
   },
   "file_extension": ".py",
   "mimetype": "text/x-python",
   "name": "python",
   "nbconvert_exporter": "python",
   "pygments_lexer": "ipython3",
   "version": "3.10.9"
  }
 },
 "nbformat": 4,
 "nbformat_minor": 5
}
